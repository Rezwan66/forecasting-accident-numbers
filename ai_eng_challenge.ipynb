{
 "cells": [
  {
   "cell_type": "code",
   "execution_count": 91,
   "id": "d4137770",
   "metadata": {},
   "outputs": [
    {
     "name": "stdout",
     "output_type": "stream",
     "text": [
      "        MONATSZAHL AUSPRÄGUNG  JAHR   MONAT   WERT  VORJAHRESWERT  \\\n",
      "0   Alkoholunfälle  insgesamt  2022  202201    NaN           16.0   \n",
      "1   Alkoholunfälle  insgesamt  2022  202202    NaN           14.0   \n",
      "2   Alkoholunfälle  insgesamt  2022  202203    NaN           24.0   \n",
      "3   Alkoholunfälle  insgesamt  2022  202204    NaN           16.0   \n",
      "4   Alkoholunfälle  insgesamt  2022  202205    NaN           24.0   \n",
      "5   Alkoholunfälle  insgesamt  2022  202206    NaN           48.0   \n",
      "6   Alkoholunfälle  insgesamt  2022  202207    NaN           44.0   \n",
      "7   Alkoholunfälle  insgesamt  2022  202208    NaN           46.0   \n",
      "8   Alkoholunfälle  insgesamt  2022  202209    NaN           54.0   \n",
      "9   Alkoholunfälle  insgesamt  2022  202210    NaN           43.0   \n",
      "10  Alkoholunfälle  insgesamt  2022  202211    NaN           33.0   \n",
      "11  Alkoholunfälle  insgesamt  2022  202212    NaN           21.0   \n",
      "12  Alkoholunfälle  insgesamt  2021   Summe  383.0          430.0   \n",
      "13  Alkoholunfälle  insgesamt  2021  202101   16.0           28.0   \n",
      "14  Alkoholunfälle  insgesamt  2021  202102   14.0           40.0   \n",
      "\n",
      "    VERÄND_VORMONAT_PROZENT  VERÄND_VORJAHRESMONAT_PROZENT  \\\n",
      "0                       NaN                            NaN   \n",
      "1                       NaN                            NaN   \n",
      "2                       NaN                            NaN   \n",
      "3                       NaN                            NaN   \n",
      "4                       NaN                            NaN   \n",
      "5                       NaN                            NaN   \n",
      "6                       NaN                            NaN   \n",
      "7                       NaN                            NaN   \n",
      "8                       NaN                            NaN   \n",
      "9                       NaN                            NaN   \n",
      "10                      NaN                            NaN   \n",
      "11                      NaN                            NaN   \n",
      "12                      NaN                         -10.93   \n",
      "13                    23.08                         -42.86   \n",
      "14                   -12.50                         -65.00   \n",
      "\n",
      "    ZWÖLF_MONATE_MITTELWERT  \n",
      "0                       NaN  \n",
      "1                       NaN  \n",
      "2                       NaN  \n",
      "3                       NaN  \n",
      "4                       NaN  \n",
      "5                       NaN  \n",
      "6                       NaN  \n",
      "7                       NaN  \n",
      "8                       NaN  \n",
      "9                       NaN  \n",
      "10                      NaN  \n",
      "11                      NaN  \n",
      "12                      NaN  \n",
      "13                     35.0  \n",
      "14                     33.0  \n"
     ]
    }
   ],
   "source": [
    "import numpy as np\n",
    "import pandas as pd\n",
    "import matplotlib.pyplot as plt\n",
    "import seaborn as sns\n",
    "\n",
    "# Loading the dataset\n",
    "df = 'https://opendata.muenchen.de/dataset/5e73a82b-7cfb-40cc-9b30-45fe5a3fa24e/resource/40094bd6-f82d-4979-949b-26c8dc00b9a7/download/monatszahlen2209_verkehrsunfaelle.csv'\n",
    "data = pd.read_csv(df)\n",
    "\n",
    "# Let us take a look at a few rows of the dataset\n",
    "print(data.head(15))\n"
   ]
  },
  {
   "cell_type": "code",
   "execution_count": 92,
   "id": "73ce3f82",
   "metadata": {},
   "outputs": [
    {
     "name": "stdout",
     "output_type": "stream",
     "text": [
      "['MONATSZAHL', 'AUSPRÄGUNG', 'JAHR', 'MONAT', 'WERT', 'VORJAHRESWERT', 'VERÄND_VORMONAT_PROZENT', 'VERÄND_VORJAHRESMONAT_PROZENT', 'ZWÖLF_MONATE_MITTELWERT']\n"
     ]
    }
   ],
   "source": [
    "# Let us look at the relevant columns\n",
    "columns = list(data.columns)\n",
    "print(columns)"
   ]
  },
  {
   "cell_type": "code",
   "execution_count": 93,
   "id": "5871c0fb",
   "metadata": {},
   "outputs": [
    {
     "name": "stdout",
     "output_type": "stream",
     "text": [
      "       MONATSZAHL AUSPRÄGUNG  JAHR   MONAT  WERT\n",
      "0  Alkoholunfälle  insgesamt  2022  202201   NaN\n",
      "1  Alkoholunfälle  insgesamt  2022  202202   NaN\n",
      "2  Alkoholunfälle  insgesamt  2022  202203   NaN\n",
      "3  Alkoholunfälle  insgesamt  2022  202204   NaN\n",
      "4  Alkoholunfälle  insgesamt  2022  202205   NaN\n"
     ]
    }
   ],
   "source": [
    "# New datadrame with only the five selected columns\n",
    "df_sp = data.iloc[:, 0:5].copy()\n",
    "print(df_sp.head())"
   ]
  },
  {
   "cell_type": "code",
   "execution_count": 94,
   "id": "26edffe7",
   "metadata": {},
   "outputs": [
    {
     "data": {
      "text/plain": [
       "['MONATSZAHL', 'AUSPRÄGUNG', 'JAHR', 'MONAT', 'WERT']"
      ]
     },
     "execution_count": 94,
     "metadata": {},
     "output_type": "execute_result"
    }
   ],
   "source": [
    "list(df_sp.columns)"
   ]
  },
  {
   "cell_type": "code",
   "execution_count": 95,
   "id": "fe4f94c0",
   "metadata": {},
   "outputs": [
    {
     "name": "stdout",
     "output_type": "stream",
     "text": [
      "           MONATSZAHL              AUSPRÄGUNG  JAHR   MONAT   WERT\n",
      "25     Alkoholunfälle               insgesamt  2020   Summe  430.0\n",
      "26     Alkoholunfälle               insgesamt  2020  202001   28.0\n",
      "27     Alkoholunfälle               insgesamt  2020  202002   40.0\n",
      "28     Alkoholunfälle               insgesamt  2020  202003   27.0\n",
      "29     Alkoholunfälle               insgesamt  2020  202004   26.0\n",
      "...               ...                     ...   ...     ...    ...\n",
      "2081  Verkehrsunfälle  Verletzte und Getötete  2000  200008  647.0\n",
      "2082  Verkehrsunfälle  Verletzte und Getötete  2000  200009  675.0\n",
      "2083  Verkehrsunfälle  Verletzte und Getötete  2000  200010  615.0\n",
      "2084  Verkehrsunfälle  Verletzte und Getötete  2000  200011  578.0\n",
      "2085  Verkehrsunfälle  Verletzte und Getötete  2000  200012  515.0\n",
      "\n",
      "[1911 rows x 5 columns]\n",
      "MONATSZAHL    0\n",
      "AUSPRÄGUNG    0\n",
      "JAHR          0\n",
      "MONAT         0\n",
      "WERT          0\n",
      "dtype: int64\n"
     ]
    }
   ],
   "source": [
    "# Now we want to drop the data after 2020 to preprocess the dataset for developing the prediction model\n",
    "\n",
    "# To filter out records after 2020\n",
    "df_sp_y = df_sp[df_sp['JAHR']<=2020]\n",
    "print(df_sp_y)\n",
    "\n",
    "# Looking for null values if present\n",
    "print(df_sp_y.isnull().sum())"
   ]
  },
  {
   "cell_type": "code",
   "execution_count": 96,
   "id": "866ed8ad",
   "metadata": {},
   "outputs": [
    {
     "name": "stdout",
     "output_type": "stream",
     "text": [
      "        MONATSZAHL  JAHR    WERT\n",
      "0   Alkoholunfälle  2000  1868.0\n",
      "1   Alkoholunfälle  2001  1696.0\n",
      "2   Alkoholunfälle  2002  1606.0\n",
      "3   Alkoholunfälle  2003  1460.0\n",
      "4   Alkoholunfälle  2004  1318.0\n",
      "5   Alkoholunfälle  2005  1200.0\n",
      "6   Alkoholunfälle  2006  1198.0\n",
      "7   Alkoholunfälle  2007  1120.0\n",
      "8   Alkoholunfälle  2008   964.0\n",
      "9   Alkoholunfälle  2009   860.0\n",
      "10  Alkoholunfälle  2010   804.0\n",
      "11  Alkoholunfälle  2011   794.0\n",
      "12  Alkoholunfälle  2012   880.0\n",
      "13  Alkoholunfälle  2013   754.0\n",
      "14  Alkoholunfälle  2014   764.0\n",
      "15  Alkoholunfälle  2015   822.0\n",
      "16  Alkoholunfälle  2016   602.0\n",
      "17  Alkoholunfälle  2017   818.0\n",
      "18  Alkoholunfälle  2018   796.0\n",
      "19  Alkoholunfälle  2019   868.0\n",
      "20  Alkoholunfälle  2020   860.0\n"
     ]
    }
   ],
   "source": [
    "# Filter for a specific Category\n",
    "category = 'Alkoholunfälle' \n",
    "#filtered_data = aggr_data[aggr_data['MONATSZAHL'] == category]\n",
    "filtered_data = df_sp_y[(df_sp_y['MONATSZAHL'] == category) & (df_sp_y['AUSPRÄGUNG'] == 'insgesamt')]\n",
    "\n",
    "# Group by Category and Year, and sum the Values\n",
    "grouped_data = filtered_data.groupby(['MONATSZAHL', 'JAHR'])\n",
    "\n",
    "# Sum of Values of the grouped data\n",
    "aggr_data = grouped_data['WERT'].sum().reset_index()\n",
    "\n",
    "print(aggr_data)"
   ]
  },
  {
   "cell_type": "code",
   "execution_count": 97,
   "id": "48922330",
   "metadata": {},
   "outputs": [
    {
     "data": {
      "image/png": "[encoded data removed]",
      "text/plain": [
       "<Figure size 864x432 with 1 Axes>"
      ]
     },
     "metadata": {
      "needs_background": "light"
     },
     "output_type": "display_data"
    }
   ],
   "source": [
    "# Visualizing the data\n",
    "plt.figure(figsize=(12, 6))\n",
    "\n",
    "# Bar Plot\n",
    "plt.bar(aggr_data['JAHR'], aggr_data['WERT'], color='skyblue', label='Bar Plot')\n",
    "\n",
    "# Line Plot\n",
    "plt.plot(aggr_data['JAHR'], aggr_data['WERT'], color='red', marker='o', label='Line Plot')\n",
    "\n",
    "# Labels and legend\n",
    "plt.xlabel('Year')\n",
    "plt.ylabel('Number of Accidents')\n",
    "plt.title(f'Historical Accidents per Category: {category}')\n",
    "plt.legend(loc='upper right')\n",
    "\n",
    "plt.grid(True)\n",
    "plt.show()"
   ]
  },
  {
   "cell_type": "markdown",
   "id": "1afb2723",
   "metadata": {},
   "source": [
    "### The plot shows a downward trend in the number of accidents over the years."
   ]
  },
  {
   "cell_type": "markdown",
   "id": "1f3d54ed",
   "metadata": {},
   "source": [
    "Let us use the SARIMA model to forecast the number of accidents for the category 'Alkoholunfälle' and type 'insgesamt' for the year 2021 and month 01."
   ]
  },
  {
   "cell_type": "code",
   "execution_count": 98,
   "id": "6053fffa",
   "metadata": {},
   "outputs": [
    {
     "name": "stdout",
     "output_type": "stream",
     "text": [
      "Requirement already satisfied: pmdarima in c:\\users\\shaikh rezwan\\appdata\\roaming\\python\\python38\\site-packages (2.0.3)\n",
      "Requirement already satisfied: setuptools!=50.0.0,>=38.6.0 in c:\\programdata\\anaconda3\\lib\\site-packages (from pmdarima) (52.0.0.post20210125)\n",
      "Requirement already satisfied: numpy>=1.21.2 in c:\\users\\shaikh rezwan\\appdata\\roaming\\python\\python38\\site-packages (from pmdarima) (1.22.4)\n",
      "Requirement already satisfied: joblib>=0.11 in c:\\programdata\\anaconda3\\lib\\site-packages (from pmdarima) (1.0.1)\n",
      "Requirement already satisfied: scipy>=1.3.2 in c:\\programdata\\anaconda3\\lib\\site-packages (from pmdarima) (1.6.2)\n",
      "Requirement already satisfied: urllib3 in c:\\programdata\\anaconda3\\lib\\site-packages (from pmdarima) (1.26.4)\n",
      "Requirement already satisfied: Cython!=0.29.18,!=0.29.31,>=0.29 in c:\\programdata\\anaconda3\\lib\\site-packages (from pmdarima) (0.29.23)\n",
      "Requirement already satisfied: statsmodels>=0.13.2 in c:\\users\\shaikh rezwan\\appdata\\roaming\\python\\python38\\site-packages (from pmdarima) (0.14.0)\n",
      "Requirement already satisfied: pandas>=0.19 in c:\\programdata\\anaconda3\\lib\\site-packages (from pmdarima) (1.2.4)\n",
      "Requirement already satisfied: scikit-learn>=0.22 in c:\\programdata\\anaconda3\\lib\\site-packages (from pmdarima) (0.24.1)\n",
      "Requirement already satisfied: python-dateutil>=2.7.3 in c:\\programdata\\anaconda3\\lib\\site-packages (from pandas>=0.19->pmdarima) (2.8.1)\n",
      "Requirement already satisfied: pytz>=2017.3 in c:\\programdata\\anaconda3\\lib\\site-packages (from pandas>=0.19->pmdarima) (2021.1)\n",
      "Requirement already satisfied: six>=1.5 in c:\\programdata\\anaconda3\\lib\\site-packages (from python-dateutil>=2.7.3->pandas>=0.19->pmdarima) (1.15.0)\n",
      "Requirement already satisfied: threadpoolctl>=2.0.0 in c:\\programdata\\anaconda3\\lib\\site-packages (from scikit-learn>=0.22->pmdarima) (2.1.0)\n",
      "Requirement already satisfied: patsy>=0.5.2 in c:\\users\\shaikh rezwan\\appdata\\roaming\\python\\python38\\site-packages (from statsmodels>=0.13.2->pmdarima) (0.5.3)\n",
      "Requirement already satisfied: packaging>=21.3 in c:\\users\\shaikh rezwan\\appdata\\roaming\\python\\python38\\site-packages (from statsmodels>=0.13.2->pmdarima) (23.1)\n"
     ]
    }
   ],
   "source": [
    "!pip install pmdarima\n",
    "from pmdarima import auto_arima"
   ]
  },
  {
   "cell_type": "code",
   "execution_count": 99,
   "id": "af3f797f",
   "metadata": {},
   "outputs": [],
   "source": [
    "#Prepare the training and test set\n",
    "training = filtered_data[['JAHR', 'MONATSZAHL', 'WERT']].copy()\n",
    "#test = filtered_data.iloc[-31:, :]"
   ]
  },
  {
   "cell_type": "code",
   "execution_count": 100,
   "id": "fe193f27",
   "metadata": {},
   "outputs": [],
   "source": [
    "# SARIMA Model\n",
    "# Train the SARIMA model\n",
    "model = auto_arima(training['WERT'], m=12)"
   ]
  },
  {
   "cell_type": "code",
   "execution_count": 101,
   "id": "3fb520dc",
   "metadata": {},
   "outputs": [
    {
     "name": "stdout",
     "output_type": "stream",
     "text": [
      "Forecasted number of accidents for Alkoholunfälle (insgesamt) in 2021-01: 273    138.149907\n",
      "dtype: float64\n"
     ]
    },
    {
     "name": "stderr",
     "output_type": "stream",
     "text": [
      "C:\\Users\\Shaikh Rezwan\\AppData\\Roaming\\Python\\Python38\\site-packages\\statsmodels\\tsa\\base\\tsa_model.py:836: ValueWarning: No supported index is available. Prediction results will be given with an integer index beginning at `start`.\n",
      "  return get_prediction_index(\n",
      "C:\\Users\\Shaikh Rezwan\\AppData\\Roaming\\Python\\Python38\\site-packages\\statsmodels\\tsa\\base\\tsa_model.py:836: FutureWarning: No supported index is available. In the next version, calling this method in a model without a supported index will result in an exception.\n",
      "  return get_prediction_index(\n"
     ]
    }
   ],
   "source": [
    "# Forecast for 2021-01\n",
    "forecast = model.predict(n_periods=1)\n",
    "\n",
    "print(f\"Forecasted number of accidents for Alkoholunfälle (insgesamt) in 2021-01: {forecast}\")"
   ]
  },
  {
   "cell_type": "code",
   "execution_count": 102,
   "id": "f6452022",
   "metadata": {},
   "outputs": [
    {
     "data": {
      "image/png": "[encoded data removed]",
      "text/plain": [
       "<Figure size 432x288 with 1 Axes>"
      ]
     },
     "metadata": {
      "needs_background": "light"
     },
     "output_type": "display_data"
    }
   ],
   "source": [
    "# Plotting the 'filtered_data'\n",
    "plt.plot(filtered_data['JAHR'], filtered_data['WERT'], label='Actual Data')\n",
    "\n",
    "# Adding a marker for the forecasted value\n",
    "plt.scatter(2021, forecast, color='red', label='Forecast')\n",
    "\n",
    "# Setting plot labels and title\n",
    "plt.xlabel('Year')\n",
    "plt.ylabel('Number of Accidents')\n",
    "plt.title('Actual Data vs Forecast')\n",
    "\n",
    "# Displaying a legend\n",
    "plt.legend()\n",
    "\n",
    "# Showing the plot\n",
    "plt.show()"
   ]
  },
  {
   "cell_type": "code",
   "execution_count": 103,
   "id": "4a887d5a",
   "metadata": {},
   "outputs": [
    {
     "name": "stdout",
     "output_type": "stream",
     "text": [
      "Actual value on 2021-01:            MONATSZAHL              AUSPRÄGUNG  JAHR   MONAT    WERT\n",
      "13     Alkoholunfälle               insgesamt  2021  202101    16.0\n",
      "311    Alkoholunfälle  Verletzte und Getötete  2021  202101     5.0\n",
      "609     Fluchtunfälle               insgesamt  2021  202101   521.0\n",
      "907     Fluchtunfälle  Verletzte und Getötete  2021  202101     8.0\n",
      "1205  Verkehrsunfälle               insgesamt  2021  202101  2153.0\n",
      "1503  Verkehrsunfälle     mit Personenschäden  2021  202101   157.0\n",
      "1801  Verkehrsunfälle  Verletzte und Getötete  2021  202101   177.0\n"
     ]
    }
   ],
   "source": [
    "# Filter the 'filtered_data' DataFrame for the date 2021-01\n",
    "actual_value = df_sp.loc[(df_sp['JAHR'] == 2021) & (df_sp['MONAT'] == '202101')]\n",
    "\n",
    "print(f\"Actual value on 2021-01: {actual_value}\")"
   ]
  },
  {
   "cell_type": "code",
   "execution_count": 104,
   "id": "dcd13d12",
   "metadata": {},
   "outputs": [
    {
     "name": "stdout",
     "output_type": "stream",
     "text": [
      "RMSE between the forecasted value and the actual value: 122.14990731060038\n"
     ]
    }
   ],
   "source": [
    "# Convert the forecasted value to a numpy array\n",
    "forecast_value = np.array(forecast)\n",
    "\n",
    "# Extract the forecasted value for the specific date (e.g., 2021-01)\n",
    "forecasted_value_on_date = forecast_value[0]\n",
    "\n",
    "# Define the actual value\n",
    "actual_value = 16.0\n",
    "\n",
    "# Calculate the RMSE\n",
    "rmse = np.sqrt(mean_squared_error([actual_value], [forecasted_value_on_date]))\n",
    "\n",
    "print(f\"RMSE between the forecasted value and the actual value: {rmse}\")"
   ]
  },
  {
   "cell_type": "code",
   "execution_count": null,
   "id": "64320fb5",
   "metadata": {},
   "outputs": [],
   "source": []
  }
 ],
 "metadata": {
  "kernelspec": {
   "display_name": "Python 3",
   "language": "python",
   "name": "python3"
  },
  "language_info": {
   "codemirror_mode": {
    "name": "ipython",
    "version": 3
   },
   "file_extension": ".py",
   "mimetype": "text/x-python",
   "name": "python",
   "nbconvert_exporter": "python",
   "pygments_lexer": "ipython3",
   "version": "3.8.8"
  }
 },
 "nbformat": 4,
 "nbformat_minor": 5
}
